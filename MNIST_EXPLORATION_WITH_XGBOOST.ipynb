{
 "cells": [
  {
   "cell_type": "markdown",
   "metadata": {},
   "source": [
    "MNIST Data Exploration"
   ]
  },
  {
   "cell_type": "code",
   "execution_count": 36,
   "metadata": {},
   "outputs": [
    {
     "name": "stdout",
     "output_type": "stream",
     "text": [
      "['.git', '.gitignore', '.ipynb_checkpoints', 'LICENSE', 'MNIST_EXPLORATION_WITH_XGBOOST.ipynb', 'README.md', 'sample_submission.csv', 'test.csv', 'train.csv']\n"
     ]
    }
   ],
   "source": [
    "\n",
    "import numpy as np\n",
    "import pandas as pd\n",
    "import csv\n",
    "from sklearn.model_selection import train_test_split\n",
    "import xgboost\n",
    "from sklearn import metrics\n",
    "\n",
    "#all the data is under the same folder\n",
    "import os\n",
    "print(os.listdir(\"../mnist_data_exploration\"))\n"
   ]
  },
  {
   "cell_type": "code",
   "execution_count": 37,
   "metadata": {},
   "outputs": [],
   "source": [
    "df_train = pd.read_csv('../mnist_data_exploration/train.csv')\n",
    "y = df_train.label.values\n",
    "X = df_train.drop('label', axis=1).values\n",
    "X_train, X_val, y_train, y_val = train_test_split(X, y, test_size=0.1)\n",
    "#df_train.head()"
   ]
  },
  {
   "cell_type": "code",
   "execution_count": 38,
   "metadata": {},
   "outputs": [
    {
     "name": "stdout",
     "output_type": "stream",
     "text": [
      "[0]\tval-merror:0.180952\tval-acc:0.819048\n",
      "[1]\tval-merror:0.129524\tval-acc:0.870476\n",
      "[2]\tval-merror:0.110476\tval-acc:0.889524\n",
      "[3]\tval-merror:0.097619\tval-acc:0.902381\n",
      "[4]\tval-merror:0.087143\tval-acc:0.912857\n",
      "[5]\tval-merror:0.080714\tval-acc:0.919286\n",
      "[6]\tval-merror:0.072857\tval-acc:0.927143\n",
      "[7]\tval-merror:0.069286\tval-acc:0.930714\n",
      "[8]\tval-merror:0.065\tval-acc:0.935\n",
      "[9]\tval-merror:0.06\tval-acc:0.94\n",
      "[10]\tval-merror:0.057143\tval-acc:0.942857\n",
      "[11]\tval-merror:0.055\tval-acc:0.945\n",
      "[12]\tval-merror:0.051429\tval-acc:0.948571\n",
      "[13]\tval-merror:0.050714\tval-acc:0.949286\n",
      "[14]\tval-merror:0.050952\tval-acc:0.949048\n",
      "[15]\tval-merror:0.048333\tval-acc:0.951667\n",
      "[16]\tval-merror:0.047143\tval-acc:0.952857\n",
      "[17]\tval-merror:0.044286\tval-acc:0.955714\n",
      "[18]\tval-merror:0.04381\tval-acc:0.95619\n",
      "[19]\tval-merror:0.040714\tval-acc:0.959286\n",
      "[20]\tval-merror:0.041429\tval-acc:0.958571\n",
      "[21]\tval-merror:0.040476\tval-acc:0.959524\n",
      "[22]\tval-merror:0.039286\tval-acc:0.960714\n",
      "[23]\tval-merror:0.039286\tval-acc:0.960714\n",
      "[24]\tval-merror:0.036905\tval-acc:0.963095\n",
      "[25]\tval-merror:0.037381\tval-acc:0.962619\n",
      "[26]\tval-merror:0.036429\tval-acc:0.963571\n",
      "[27]\tval-merror:0.035952\tval-acc:0.964048\n",
      "[28]\tval-merror:0.035476\tval-acc:0.964524\n",
      "[29]\tval-merror:0.03381\tval-acc:0.96619\n",
      "[30]\tval-merror:0.032857\tval-acc:0.967143\n",
      "[31]\tval-merror:0.033571\tval-acc:0.966429\n",
      "[32]\tval-merror:0.033571\tval-acc:0.966429\n",
      "[33]\tval-merror:0.032381\tval-acc:0.967619\n",
      "[34]\tval-merror:0.030952\tval-acc:0.969048\n",
      "[35]\tval-merror:0.030952\tval-acc:0.969048\n",
      "[36]\tval-merror:0.032381\tval-acc:0.967619\n",
      "[37]\tval-merror:0.031667\tval-acc:0.968333\n",
      "[38]\tval-merror:0.031667\tval-acc:0.968333\n",
      "[39]\tval-merror:0.030952\tval-acc:0.969048\n",
      "[40]\tval-merror:0.030238\tval-acc:0.969762\n",
      "[41]\tval-merror:0.030476\tval-acc:0.969524\n",
      "[42]\tval-merror:0.03\tval-acc:0.97\n",
      "[43]\tval-merror:0.029524\tval-acc:0.970476\n",
      "[44]\tval-merror:0.028571\tval-acc:0.971429\n",
      "[45]\tval-merror:0.029286\tval-acc:0.970714\n",
      "[46]\tval-merror:0.029524\tval-acc:0.970476\n",
      "[47]\tval-merror:0.029048\tval-acc:0.970952\n",
      "[48]\tval-merror:0.029048\tval-acc:0.970952\n",
      "[49]\tval-merror:0.02881\tval-acc:0.97119\n",
      "[50]\tval-merror:0.028571\tval-acc:0.971429\n",
      "[51]\tval-merror:0.028095\tval-acc:0.971905\n",
      "[52]\tval-merror:0.028333\tval-acc:0.971667\n",
      "[53]\tval-merror:0.027857\tval-acc:0.972143\n",
      "[54]\tval-merror:0.028333\tval-acc:0.971667\n",
      "[55]\tval-merror:0.027619\tval-acc:0.972381\n",
      "[56]\tval-merror:0.027619\tval-acc:0.972381\n",
      "[57]\tval-merror:0.028095\tval-acc:0.971905\n",
      "[58]\tval-merror:0.027857\tval-acc:0.972143\n",
      "[59]\tval-merror:0.028095\tval-acc:0.971905\n",
      "[60]\tval-merror:0.028333\tval-acc:0.971667\n",
      "[61]\tval-merror:0.027857\tval-acc:0.972143\n",
      "[62]\tval-merror:0.028571\tval-acc:0.971429\n",
      "[63]\tval-merror:0.028095\tval-acc:0.971905\n",
      "[64]\tval-merror:0.028333\tval-acc:0.971667\n",
      "[65]\tval-merror:0.028333\tval-acc:0.971667\n",
      "[66]\tval-merror:0.027619\tval-acc:0.972381\n",
      "[67]\tval-merror:0.028095\tval-acc:0.971905\n",
      "[68]\tval-merror:0.027619\tval-acc:0.972381\n",
      "[69]\tval-merror:0.027619\tval-acc:0.972381\n",
      "[70]\tval-merror:0.027619\tval-acc:0.972381\n",
      "[71]\tval-merror:0.027381\tval-acc:0.972619\n",
      "[72]\tval-merror:0.027381\tval-acc:0.972619\n",
      "[73]\tval-merror:0.027619\tval-acc:0.972381\n",
      "[74]\tval-merror:0.027143\tval-acc:0.972857\n",
      "[75]\tval-merror:0.026905\tval-acc:0.973095\n",
      "[76]\tval-merror:0.027143\tval-acc:0.972857\n",
      "[77]\tval-merror:0.026905\tval-acc:0.973095\n",
      "[78]\tval-merror:0.026429\tval-acc:0.973571\n",
      "[79]\tval-merror:0.02619\tval-acc:0.97381\n",
      "[80]\tval-merror:0.026905\tval-acc:0.973095\n",
      "[81]\tval-merror:0.026429\tval-acc:0.973571\n",
      "[82]\tval-merror:0.02619\tval-acc:0.97381\n",
      "[83]\tval-merror:0.026429\tval-acc:0.973571\n",
      "[84]\tval-merror:0.026429\tval-acc:0.973571\n",
      "[85]\tval-merror:0.026429\tval-acc:0.973571\n",
      "[86]\tval-merror:0.026429\tval-acc:0.973571\n",
      "[87]\tval-merror:0.02619\tval-acc:0.97381\n",
      "[88]\tval-merror:0.02619\tval-acc:0.97381\n",
      "[89]\tval-merror:0.026429\tval-acc:0.973571\n",
      "[90]\tval-merror:0.026429\tval-acc:0.973571\n",
      "[91]\tval-merror:0.026905\tval-acc:0.973095\n",
      "[92]\tval-merror:0.026667\tval-acc:0.973333\n",
      "[93]\tval-merror:0.026905\tval-acc:0.973095\n",
      "[94]\tval-merror:0.026667\tval-acc:0.973333\n",
      "[95]\tval-merror:0.026905\tval-acc:0.973095\n",
      "[96]\tval-merror:0.026905\tval-acc:0.973095\n",
      "[97]\tval-merror:0.026905\tval-acc:0.973095\n",
      "[98]\tval-merror:0.02619\tval-acc:0.97381\n",
      "[99]\tval-merror:0.026429\tval-acc:0.973571\n"
     ]
    }
   ],
   "source": [
    "#print(X_train)\n",
    "dtrain = xgboost.DMatrix(X_train, label=y_train)\n",
    "dval = xgboost.DMatrix(X_val, label=y_val)\n",
    "\n",
    "params = {\n",
    "    'max_depth': 5,                 # the maximum depth of each tree\n",
    "    'eta': 0.5,                     # the training step for each iteration\n",
    "    'eta_decay': 0.9,\n",
    "    'min_eta': 0.05,\n",
    "    'silent': 0,                    # logging mode - quiet\n",
    "    'objective': 'multi:softmax',   # multiclass classification using the softmax objective\n",
    "    'num_class': 10,                 # the number of classes that exist in this datset\n",
    "    'early_stopping_rounds': 10,\n",
    "    'n_estimators': 1000\n",
    "}  \n",
    "\n",
    "def eval_acc(preds, dtrain):\n",
    "    labels = dtrain.get_label()\n",
    "    return 'acc', metrics.accuracy_score(labels, preds)\n",
    "\n",
    "results = {}\n",
    "model = xgboost.train(params, dtrain, num_boost_round=100, evals=[(dval, 'val')], evals_result=results, feval=eval_acc)"
   ]
  },
  {
   "cell_type": "code",
   "execution_count": 39,
   "metadata": {},
   "outputs": [],
   "source": [
    "df_test = pd.read_csv('../mnist_data_exploration/test.csv')\n",
    "#df_test.head()\n",
    "x_test = df_test.values\n",
    "dtest = xgboost.DMatrix(x_test)"
   ]
  },
  {
   "cell_type": "code",
   "execution_count": 40,
   "metadata": {},
   "outputs": [
    {
     "name": "stdout",
     "output_type": "stream",
     "text": [
      "(28000,)\n"
     ]
    },
    {
     "data": {
      "text/plain": [
       "array([2., 0.], dtype=float32)"
      ]
     },
     "execution_count": 40,
     "metadata": {},
     "output_type": "execute_result"
    }
   ],
   "source": [
    "pred_values = model.predict(dtest)\n",
    "print(pred_values.shape)\n",
    "pred_values[:2]"
   ]
  },
  {
   "cell_type": "code",
   "execution_count": 41,
   "metadata": {},
   "outputs": [],
   "source": [
    "df_sub = pd.read_csv('../mnist_data_exploration/sample_submission.csv')\n",
    "df_sub.head()\n",
    "df_sub.Label = pred_values.astype(np.int32)\n",
    "df_sub.head()\n",
    "df_sub.to_csv('submission.csv', index=False)"
   ]
  }
 ],
 "metadata": {
  "kernelspec": {
   "display_name": "Python 3",
   "language": "python",
   "name": "python3"
  },
  "language_info": {
   "codemirror_mode": {
    "name": "ipython",
    "version": 3
   },
   "file_extension": ".py",
   "mimetype": "text/x-python",
   "name": "python",
   "nbconvert_exporter": "python",
   "pygments_lexer": "ipython3",
   "version": "3.6.8"
  }
 },
 "nbformat": 4,
 "nbformat_minor": 2
}
